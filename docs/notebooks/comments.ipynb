{
 "cells": [
  {
   "cell_type": "markdown",
   "metadata": {},
   "source": [
    "# Experiments in recursive commenting"
   ]
  },
  {
   "cell_type": "markdown",
   "metadata": {},
   "source": [
    "## Implementation from ChatGTP"
   ]
  },
  {
   "cell_type": "code",
   "execution_count": 20,
   "metadata": {},
   "outputs": [
    {
     "name": "stdout",
     "output_type": "stream",
     "text": [
      "Article: Introduction to TypeScript\n",
      "Content: TypeScript is a superset of JavaScript...\n",
      "Comments:\n",
      "- This is a great article!\n",
      "  - I agree with your point!\n",
      "  - I have a question about the topic.\n",
      "- I learned a lot from this.\n",
      "\n",
      "\n",
      "Article: React Component Lifecycle\n",
      "Content: In React, components go through several lifecycle stages...\n",
      "Comments:\n",
      "- Good explanation of lifecycle methods.\n",
      "- I would like more examples.\n",
      "\n",
      "\n"
     ]
    }
   ],
   "source": [
    "type Comment = {\n",
    "  id: number;\n",
    "  text: string;\n",
    "  subComments?: Comment[];\n",
    "};\n",
    "\n",
    "type Article = {\n",
    "  id: number;\n",
    "  title: string;\n",
    "  content: string;\n",
    "  comments?: Comment[];\n",
    "};\n",
    "\n",
    "// Create some fake data\n",
    "const comment1: Comment = {\n",
    "  id: 1,\n",
    "  text: \"This is a great article!\",\n",
    "  subComments: [\n",
    "    { id: 3, text: \"I agree with your point!\" },\n",
    "    { id: 4, text: \"I have a question about the topic.\" },\n",
    "  ],\n",
    "};\n",
    "\n",
    "const comment2: Comment = {\n",
    "  id: 2,\n",
    "  text: \"I learned a lot from this.\",\n",
    "};\n",
    "\n",
    "const article1: Article = {\n",
    "  id: 1,\n",
    "  title: \"Introduction to TypeScript\",\n",
    "  content: \"TypeScript is a superset of JavaScript...\",\n",
    "  comments: [comment1, comment2],\n",
    "};\n",
    "\n",
    "const article2: Article = {\n",
    "  id: 2,\n",
    "  title: \"React Component Lifecycle\",\n",
    "  content: \"In React, components go through several lifecycle stages...\",\n",
    "  comments: [\n",
    "    { id: 5, text: \"Good explanation of lifecycle methods.\" },\n",
    "    { id: 6, text: \"I would like more examples.\" },\n",
    "  ],\n",
    "};\n",
    "\n",
    "// Display the articles and their comments\n",
    "function displayArticle(article: Article) {\n",
    "  console.log(`Article: ${article.title}`);\n",
    "  console.log(`Content: ${article.content}`);\n",
    "  console.log(\"Comments:\");\n",
    "  article.comments?.forEach((comment) => {\n",
    "    displayComment(comment, 0);\n",
    "  });\n",
    "  console.log(\"\\n\");\n",
    "}\n",
    "\n",
    "function displayComment(comment: Comment, level: number) {\n",
    "  const indentation = \"  \".repeat(level);\n",
    "  console.log(`${indentation}- ${comment.text}`);\n",
    "  comment.subComments?.forEach((subComment) => {\n",
    "    displayComment(subComment, level + 1);\n",
    "  });\n",
    "}\n",
    "\n",
    "// Display the articles\n",
    "displayArticle(article1);\n",
    "displayArticle(article2);\n"
   ]
  }
 ],
 "metadata": {
  "kernelspec": {
   "display_name": "Deno",
   "language": "typescript",
   "name": "deno"
  },
  "language_info": {
   "file_extension": ".ts",
   "mimetype": "text/x.typescript",
   "name": "typescript",
   "nb_converter": "script",
   "pygments_lexer": "typescript",
   "version": "5.2.2"
  }
 },
 "nbformat": 4,
 "nbformat_minor": 2
}
